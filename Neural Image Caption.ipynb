{
 "cells": [
  {
   "cell_type": "code",
   "execution_count": 1,
   "metadata": {},
   "outputs": [],
   "source": [
    "# data file location\n",
    "data_dir = './Flickr8k_Dataset/'\n",
    "captions_file = './Flickr8k_text/Flickr8k.token.txt'"
   ]
  },
  {
   "cell_type": "code",
   "execution_count": 2,
   "metadata": {},
   "outputs": [],
   "source": [
    "# variables\n",
    "start_word = 'startseq'\n",
    "end_word = 'endseq'\n",
    "unknown_word = 'unk'"
   ]
  },
  {
   "cell_type": "code",
   "execution_count": 3,
   "metadata": {},
   "outputs": [],
   "source": [
    "# open file for reading\n",
    "f = open(captions_file, 'r')"
   ]
  },
  {
   "cell_type": "code",
   "execution_count": 4,
   "metadata": {},
   "outputs": [],
   "source": [
    "# read file\n",
    "sentences = f.readlines()"
   ]
  },
  {
   "cell_type": "code",
   "execution_count": 5,
   "metadata": {},
   "outputs": [],
   "source": [
    "# create a word tokenizer\n",
    "from tensorflow.keras.preprocessing.text import Tokenizer\n",
    "tokenizer = Tokenizer()"
   ]
  },
  {
   "cell_type": "code",
   "execution_count": 6,
   "metadata": {},
   "outputs": [],
   "source": [
    "from tensorflow.keras.preprocessing.text import text_to_word_sequence\n",
    "\n",
    "# create a list of image ids and captions\n",
    "image_ids = []\n",
    "captions = {}\n",
    "for sentence in sentences:\n",
    "    image_and_caption_index, caption = sentence.split('\\t')\n",
    "    image_id = image_and_caption_index.split('.')[0]\n",
    "    caption = start_word + ' ' + caption + ' ' + end_word\n",
    "    caption = text_to_word_sequence(caption)\n",
    "    caption = ' '.join(caption)\n",
    "    # append to lists\n",
    "    if image_id not in image_ids:\n",
    "        image_ids.append(image_id)\n",
    "        captions[image_id] = []\n",
    "    captions[image_id].append(caption)"
   ]
  },
  {
   "cell_type": "code",
   "execution_count": 7,
   "metadata": {},
   "outputs": [
    {
     "name": "stdout",
     "output_type": "stream",
     "text": [
      "8092\n",
      "8092\n",
      "['startseq a little girl covered in paint sits in front of a painted rainbow with her hands in a bowl endseq', 'startseq a little girl is sitting in front of a large painted rainbow endseq', 'startseq a small girl in the grass plays with fingerpaints in front of a white canvas with a rainbow on it endseq', 'startseq there is a girl with pigtails sitting in front of a rainbow painting endseq', 'startseq young girl with pigtails painting outside in the grass endseq']\n"
     ]
    }
   ],
   "source": [
    "print(len(image_ids))\n",
    "print(len(captions))\n",
    "print(captions[image_ids[2]])"
   ]
  }
 ],
 "metadata": {
  "kernelspec": {
   "display_name": "Python [conda env:tensorflow]",
   "language": "python",
   "name": "conda-env-tensorflow-py"
  },
  "language_info": {
   "codemirror_mode": {
    "name": "ipython",
    "version": 3
   },
   "file_extension": ".py",
   "mimetype": "text/x-python",
   "name": "python",
   "nbconvert_exporter": "python",
   "pygments_lexer": "ipython3",
   "version": "3.6.6"
  }
 },
 "nbformat": 4,
 "nbformat_minor": 2
}
