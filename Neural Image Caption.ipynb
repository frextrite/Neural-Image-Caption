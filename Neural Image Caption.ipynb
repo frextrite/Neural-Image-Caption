{
 "cells": [
  {
   "cell_type": "code",
   "execution_count": null,
   "metadata": {},
   "outputs": [],
   "source": [
    "# data file location\n",
    "data_dir = './Flickr8k_Dataset/'\n",
    "captions_file = './Flickr8k_text/Flickr8k.token.txt'"
   ]
  },
  {
   "cell_type": "code",
   "execution_count": null,
   "metadata": {},
   "outputs": [],
   "source": [
    "# variables\n",
    "start_word = 'startseq'\n",
    "end_word = 'endseq'\n",
    "unknown_word = 'unk'\n",
    "extracted_features_file = 'features.pkl'\n",
    "embedding_dim = 256\n",
    "lstm_units = 256"
   ]
  },
  {
   "cell_type": "code",
   "execution_count": null,
   "metadata": {},
   "outputs": [],
   "source": [
    "# list of train and validation images\n",
    "train_image_id_list = []\n",
    "val_image_id_list = []"
   ]
  },
  {
   "cell_type": "code",
   "execution_count": null,
   "metadata": {},
   "outputs": [],
   "source": [
    "# create list of train images\n",
    "train_images = './Flickr8k_text/Flickr_8k.trainImages.txt'\n",
    "with open(train_images, 'r') as f:\n",
    "    image_list = f.readlines()\n",
    "    for image in image_list:\n",
    "        train_image_id_list.append(image.split('.')[0])"
   ]
  },
  {
   "cell_type": "code",
   "execution_count": null,
   "metadata": {},
   "outputs": [],
   "source": [
    "# create list of train images\n",
    "val_images = './Flickr8k_text/Flickr_8k.devImages.txt'  \n",
    "with open(val_images, 'r') as f:\n",
    "    image_list = f.readlines()\n",
    "    for image in image_list:\n",
    "        val_image_id_list.append(image.split('.')[0])"
   ]
  },
  {
   "cell_type": "code",
   "execution_count": null,
   "metadata": {},
   "outputs": [],
   "source": [
    "print(len(train_image_id_list))\n",
    "print(len(val_image_id_list))"
   ]
  },
  {
   "cell_type": "code",
   "execution_count": null,
   "metadata": {},
   "outputs": [],
   "source": [
    "# open file for reading\n",
    "f = open(captions_file, 'r')"
   ]
  },
  {
   "cell_type": "code",
   "execution_count": null,
   "metadata": {},
   "outputs": [],
   "source": [
    "# read file\n",
    "sentences = f.readlines()"
   ]
  },
  {
   "cell_type": "code",
   "execution_count": null,
   "metadata": {},
   "outputs": [],
   "source": [
    "# create a word tokenizer\n",
    "from tensorflow.keras.preprocessing.text import Tokenizer\n",
    "tokenizer = Tokenizer()"
   ]
  },
  {
   "cell_type": "code",
   "execution_count": null,
   "metadata": {},
   "outputs": [],
   "source": [
    "from tensorflow.keras.preprocessing.text import text_to_word_sequence\n",
    "\n",
    "# create a list of image ids and captions\n",
    "image_ids = []\n",
    "captions = {}\n",
    "for sentence in sentences:\n",
    "    image_and_caption_index, caption = sentence.split('\\t')\n",
    "    image_id = image_and_caption_index.split('.')[0]\n",
    "    caption = start_word + ' ' + caption + ' ' + end_word\n",
    "    caption = text_to_word_sequence(caption)\n",
    "    caption = ' '.join(caption)\n",
    "    # append to lists\n",
    "    if image_id not in image_ids:\n",
    "        image_ids.append(image_id)\n",
    "        captions[image_id] = []\n",
    "    captions[image_id].append(caption)"
   ]
  },
  {
   "cell_type": "code",
   "execution_count": null,
   "metadata": {},
   "outputs": [],
   "source": [
    "print(len(image_ids))\n",
    "print(len(captions))\n",
    "print(captions[image_ids[3]])"
   ]
  },
  {
   "cell_type": "code",
   "execution_count": null,
   "metadata": {},
   "outputs": [],
   "source": [
    "# create a list of all captions\n",
    "all_captions = []\n",
    "for image_id, caption in captions.items():\n",
    "    all_captions += caption"
   ]
  },
  {
   "cell_type": "code",
   "execution_count": null,
   "metadata": {},
   "outputs": [],
   "source": [
    "len(all_captions)"
   ]
  },
  {
   "cell_type": "code",
   "execution_count": null,
   "metadata": {},
   "outputs": [],
   "source": [
    "# fit tokenizer on all captions\n",
    "tokenizer.fit_on_texts(all_captions)"
   ]
  },
  {
   "cell_type": "code",
   "execution_count": null,
   "metadata": {},
   "outputs": [],
   "source": [
    "# define vocabulary size\n",
    "vocab_size = len(tokenizer.word_index) + 1\n",
    "vocab_size"
   ]
  },
  {
   "cell_type": "code",
   "execution_count": null,
   "metadata": {},
   "outputs": [],
   "source": [
    "max_len = max(len(text_to_word_sequence(caption)) for caption in all_captions)\n",
    "max_len"
   ]
  },
  {
   "cell_type": "code",
   "execution_count": null,
   "metadata": {},
   "outputs": [],
   "source": [
    "# VGG16 model pretrained on ImageNet to be used as our CNN encoder\n",
    "from tensorflow.keras.applications.vgg16 import VGG16"
   ]
  },
  {
   "cell_type": "code",
   "execution_count": null,
   "metadata": {},
   "outputs": [],
   "source": [
    "base_model = VGG16(include_top=True, weights='imagenet')\n",
    "base_model.summary()"
   ]
  },
  {
   "cell_type": "code",
   "execution_count": null,
   "metadata": {},
   "outputs": [],
   "source": [
    "# create a new model using CGG16 but without the softmax prediction layer\n",
    "from tensorflow.keras.models import Model"
   ]
  },
  {
   "cell_type": "code",
   "execution_count": null,
   "metadata": {},
   "outputs": [],
   "source": [
    "feature_extractor_model = Model(inputs=base_model.inputs, outputs=base_model.layers[-2].output)\n",
    "feature_extractor_model.summary()"
   ]
  },
  {
   "cell_type": "code",
   "execution_count": null,
   "metadata": {},
   "outputs": [],
   "source": [
    "# extract features\n",
    "from tensorflow.keras.preprocessing.image import load_img, img_to_array\n",
    "from tensorflow.keras.applications.vgg16 import preprocess_input\n",
    "\n",
    "features = {}\n",
    "\n",
    "for image_id in image_ids:\n",
    "    image = data_dir + image_id + '.jpg'\n",
    "    feature = []\n",
    "    try:\n",
    "        image = load_img(image, target_size=(224, 224))\n",
    "        image = img_to_array(image)\n",
    "        image = image.reshape((1, 224, 224, 3))\n",
    "        image = preprocess_input(image)\n",
    "\n",
    "        feature = feature_extractor_model.predict(image)\n",
    "    except FileNotFoundError:\n",
    "        pass\n",
    "    features[image_id] = feature"
   ]
  },
  {
   "cell_type": "code",
   "execution_count": null,
   "metadata": {},
   "outputs": [],
   "source": [
    "# store features in a pickle file\n",
    "from pickle import dump\n",
    "dump(features, open(extracted_features_file, 'wb'))"
   ]
  },
  {
   "cell_type": "code",
   "execution_count": null,
   "metadata": {},
   "outputs": [],
   "source": [
    "# open extracted features file\n",
    "from pickle import load\n",
    "f_extracted = load(open(extracted_features_file, 'rb'))"
   ]
  },
  {
   "cell_type": "code",
   "execution_count": null,
   "metadata": {},
   "outputs": [],
   "source": [
    "import numpy as np\n",
    "from tensorflow.keras.preprocessing.sequence import pad_sequences\n",
    "from tensorflow.keras.utils import to_categorical\n",
    "\n",
    "def load_data(image_id, caption_list):\n",
    "    X_encoder = []\n",
    "    X_decoder = []\n",
    "    y_decoder = []\n",
    "        \n",
    "    # load features from file\n",
    "    image = f_extracted[image_id]\n",
    "    \n",
    "    # integer encode the caption\n",
    "    integer_encoded_caption_list = tokenizer.texts_to_sequences(caption_list)\n",
    "    \n",
    "    # train on first caption for testing purposes\n",
    "    # integer_encoded_caption_list = [integer_encoded_caption_list[0]]\n",
    "    \n",
    "    for caption in integer_encoded_caption_list:\n",
    "        for i in range(1, len(caption)):\n",
    "            in_seq = caption[:i]\n",
    "            out_seq = caption[i]\n",
    "                \n",
    "            X_encoder.append(image)\n",
    "            X_decoder.append(in_seq)\n",
    "            y_decoder.append(out_seq)\n",
    "        \n",
    "    return np.array(X_encoder), np.array(X_decoder), np.array(y_decoder)"
   ]
  },
  {
   "cell_type": "code",
   "execution_count": null,
   "metadata": {},
   "outputs": [],
   "source": [
    "def train_data_generator():\n",
    "    while True:\n",
    "        # for image_id, caption_list in captions.items():\n",
    "        for image_id in train_image_id_list:\n",
    "            caption_list = []\n",
    "            try:\n",
    "                caption_list = captions[image_id]\n",
    "            except KeyError:\n",
    "                pass\n",
    "            if len(caption_list) == 0:\n",
    "                continue\n",
    "            if len(f_extracted[image_id]) == 0:\n",
    "                continue\n",
    "            X_encoder, X_decoder, y_decoder = load_data(image_id, caption_list)\n",
    "            X_encoder = X_encoder.reshape((X_encoder.shape[0], 4096))\n",
    "            X_decoder = pad_sequences(X_decoder, maxlen=max_len)\n",
    "            y_decoder = to_categorical(y_decoder, num_classes=vocab_size)\n",
    "            \n",
    "            yield [[X_encoder, X_decoder], y_decoder]"
   ]
  },
  {
   "cell_type": "code",
   "execution_count": null,
   "metadata": {},
   "outputs": [],
   "source": [
    "def val_data_generator():\n",
    "    while True:\n",
    "        for image_id in val_image_id_list:\n",
    "            caption_list = []\n",
    "            try:\n",
    "                caption_list = captions[image_id]\n",
    "            except KeyError:\n",
    "                pass\n",
    "            if len(caption_list) == 0:\n",
    "                continue\n",
    "            if len(f_extracted[image_id]) == 0:\n",
    "                continue\n",
    "            X_encoder, X_decoder, y_decoder = load_data(image_id, caption_list)\n",
    "            X_encoder = X_encoder.reshape((X_encoder.shape[0], 4096))\n",
    "            X_decoder = pad_sequences(X_decoder, maxlen=max_len)\n",
    "            y_decoder = to_categorical(y_decoder, num_classes=vocab_size)\n",
    "            \n",
    "            yield [[X_encoder, X_decoder], y_decoder]"
   ]
  },
  {
   "cell_type": "code",
   "execution_count": null,
   "metadata": {},
   "outputs": [],
   "source": [
    "# create sequential models\n",
    "from tensorflow.keras.models import Sequential, Model\n",
    "from tensorflow.keras.layers import Dense, Embedding, LSTM, RepeatVector, Activation, Input, add, TimeDistributed, Dropout"
   ]
  },
  {
   "cell_type": "raw",
   "metadata": {},
   "source": [
    "# create image encoder model(CNN)\n",
    "image_encoder = Sequential()\n",
    "image_encoder.add(Dense(embedding_dim, input_shape=(4096,), activation='relu'))\n",
    "image_encoder.add(RepeatVector(max_len))\n",
    "image_encoder.summary()"
   ]
  },
  {
   "cell_type": "raw",
   "metadata": {},
   "source": [
    "# create decoder model(RNN)\n",
    "sequence_decoder = Sequential()\n",
    "sequence_decoder.add(Embedding(vocab_size, embedding_dim, input_length=max_len))\n",
    "sequence_decoder.add(LSTM(lstm_units, return_sequences=True))\n",
    "# sequence_decoder.add(LSTM(lstm_units, return_sequences=False))\n",
    "# sequence_decoder.add(Dense(vocab_size, activation='softmax'))\n",
    "sequence_decoder.summary()"
   ]
  },
  {
   "cell_type": "raw",
   "metadata": {},
   "source": [
    "# create final encoder-decoder model\n",
    "encoder_decoder = Model(inputs=[image_encoder.input, sequence_decoder.input], outputs=sequence_decoder.output)\n",
    "encoder_decoder.summary()"
   ]
  },
  {
   "cell_type": "raw",
   "metadata": {},
   "source": [
    "prediction_model = Sequential()\n",
    "prediction_model.add(LSTM(lstm_units, return_sequences=False, input_shape=(39,512,)))\n",
    "prediction_model.add(Dense(vocab_size, activation='softmax'))\n",
    "prediction_model.summary()"
   ]
  },
  {
   "cell_type": "raw",
   "metadata": {},
   "source": [
    "final_model = Model(inputs=encoder_decoder.input, outputs=prediction_model.output)\n",
    "final_model.summary()"
   ]
  },
  {
   "cell_type": "code",
   "execution_count": null,
   "metadata": {},
   "outputs": [],
   "source": [
    "# create image encoder model(CNN)\n",
    "input_image_encoder = Input(shape=(4096,))\n",
    "fc = Dense(embedding_dim, activation='relu')(input_image_encoder)\n",
    "output_image_encoder = RepeatVector(max_len)(fc)\n",
    "\n",
    "# create decoder model(RNN)\n",
    "input_sequence_decoder = Input(shape=(max_len,))\n",
    "embedding_sequence_model = Embedding(vocab_size, embedding_dim)(input_sequence_decoder)\n",
    "lstm_sequence_model = LSTM(lstm_units, return_sequences=True)(embedding_sequence_model)\n",
    "td_sequence_model = TimeDistributed(Dense(embedding_dim, activation='relu'))(lstm_sequence_model)\n",
    "\n",
    "# merge inputs\n",
    "merged = add([output_image_encoder, td_sequence_model])\n",
    "\n",
    "# language model (decoder)\n",
    "lstm_encoder_decoder = LSTM(lstm_units, return_sequences=False)(merged)\n",
    "fc_encoder_decoder = Dense(lstm_units, activation='relu')(lstm_encoder_decoder)\n",
    "dropout_encoder_decoder = Dropout(0.5)(fc_encoder_decoder)\n",
    "output_encoder_decoder = Dense(vocab_size, activation='softmax')(dropout_encoder_decoder)\n",
    "\n",
    "# tie it together [image, seq] [word]\n",
    "model = Model(inputs=[input_image_encoder, input_sequence_decoder], outputs=output_encoder_decoder)\n",
    "\n",
    "model.summary()"
   ]
  },
  {
   "cell_type": "code",
   "execution_count": null,
   "metadata": {},
   "outputs": [],
   "source": [
    "# compile model\n",
    "model.compile(loss='categorical_crossentropy', optimizer='adam', metrics=['accuracy'])"
   ]
  },
  {
   "cell_type": "code",
   "execution_count": null,
   "metadata": {},
   "outputs": [],
   "source": [
    "# callback for saving model\n",
    "from tensorflow.keras.callbacks import ModelCheckpoint\n",
    "\n",
    "filepath=\"NIC-{epoch:02d}-{loss:.4f}.h5\"\n",
    "checkpoint = ModelCheckpoint(filepath, monitor='loss', verbose=1, save_best_only=True, mode='min')\n",
    "callbacks_list = [checkpoint]"
   ]
  },
  {
   "cell_type": "code",
   "execution_count": null,
   "metadata": {},
   "outputs": [],
   "source": [
    "# create generator callback\n",
    "generator_train = train_data_generator()\n",
    "generator_val = val_data_generator()"
   ]
  },
  {
   "cell_type": "code",
   "execution_count": null,
   "metadata": {},
   "outputs": [],
   "source": [
    "model.fit_generator(generator_train, epochs=10, verbose=1, steps_per_epoch=len(train_image_id_list), validation_data=generator_val, validation_steps=len(val_image_id_list), callbacks=callbacks_list)"
   ]
  },
  {
   "cell_type": "code",
   "execution_count": null,
   "metadata": {},
   "outputs": [],
   "source": [
    "# create test image id list\n",
    "test_image_id_list = []\n",
    "\n",
    "# create list of test images\n",
    "test_images = './Flickr8k_text/Flickr_8k.testImages.txt'\n",
    "with open(test_images, 'r') as f:\n",
    "    image_list = f.readlines()\n",
    "    for image in image_list:\n",
    "        test_image_id_list.append(image.split('.')[0])"
   ]
  },
  {
   "cell_type": "code",
   "execution_count": null,
   "metadata": {},
   "outputs": [],
   "source": [
    "len(test_image_id_list)"
   ]
  },
  {
   "cell_type": "code",
   "execution_count": null,
   "metadata": {},
   "outputs": [],
   "source": [
    "# extract features of a random test file\n",
    "test_image_id = test_image_id_list[2]\n",
    "\n",
    "image_feature = f_extracted[test_image_id]"
   ]
  },
  {
   "cell_type": "code",
   "execution_count": null,
   "metadata": {},
   "outputs": [],
   "source": [
    "image_feature.shape"
   ]
  },
  {
   "cell_type": "code",
   "execution_count": null,
   "metadata": {},
   "outputs": [],
   "source": [
    "# create unique integer to word mapping\n",
    "int_to_word = {int:word for word, int in tokenizer.word_index.items()}"
   ]
  },
  {
   "cell_type": "code",
   "execution_count": null,
   "metadata": {},
   "outputs": [],
   "source": [
    "# initialize seed word\n",
    "seed_word = start_word\n",
    "seed_word"
   ]
  },
  {
   "cell_type": "code",
   "execution_count": null,
   "metadata": {},
   "outputs": [],
   "source": [
    "# get caption list for testing purposes\n",
    "caption_list = captions[test_image_id]\n",
    "\n",
    "X_encoder = image_feature"
   ]
  },
  {
   "cell_type": "code",
   "execution_count": null,
   "metadata": {},
   "outputs": [],
   "source": [
    "# generate sequence\n",
    "for i in range(max_len):\n",
    "    # integer encode seed word\n",
    "    sequence = tokenizer.texts_to_sequences([seed_word])\n",
    "    # pad sequence\n",
    "    sequence = pad_sequences(sequence, maxlen=max_len)\n",
    "    # create input tensor\n",
    "    X_test = [X_encoder, sequence]\n",
    "    # predict next word in sequence\n",
    "    y_pred = model.predict(X_test, verbose=0)\n",
    "    # calculate maximum index from one hot encoded tensor\n",
    "    y_pred = np.argmax(y_pred)\n",
    "    # convert index back to word\n",
    "    word = int_to_word[y_pred]\n",
    "    # break if word cannot be mapped back\n",
    "    if word is None:\n",
    "        break\n",
    "    # append current predicted word to the sequence which will be the input in the next timestep\n",
    "    seed_word += ' ' + word\n",
    "    # break if endseq is predicted\n",
    "    if word == 'endseq':\n",
    "        break\n",
    "\n",
    "# print generated sequence\n",
    "print(seed_word)"
   ]
  }
 ],
 "metadata": {
  "kernelspec": {
   "display_name": "Python [conda env:tensorflow]",
   "language": "python",
   "name": "conda-env-tensorflow-py"
  },
  "language_info": {
   "codemirror_mode": {
    "name": "ipython",
    "version": 3
   },
   "file_extension": ".py",
   "mimetype": "text/x-python",
   "name": "python",
   "nbconvert_exporter": "python",
   "pygments_lexer": "ipython3",
   "version": "3.6.6"
  }
 },
 "nbformat": 4,
 "nbformat_minor": 2
}
